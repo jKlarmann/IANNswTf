{
 "cells": [
  {
   "cell_type": "code",
   "execution_count": 1,
   "id": "02431e6b",
   "metadata": {},
   "outputs": [],
   "source": [
    "import numpy as np\n",
    "import matplotlib.pyplot as plt"
   ]
  },
  {
   "cell_type": "code",
   "execution_count": 2,
   "id": "7398fe2f",
   "metadata": {},
   "outputs": [
    {
     "data": {
      "image/png": "[encoded data removed]",
      "text/plain": [
       "<Figure size 432x288 with 1 Axes>"
      ]
     },
     "metadata": {
      "needs_background": "light"
     },
     "output_type": "display_data"
    },
    {
     "data": {
      "image/png": "[encoded data removed]",
      "text/plain": [
       "<Figure size 432x288 with 1 Axes>"
      ]
     },
     "metadata": {
      "needs_background": "light"
     },
     "output_type": "display_data"
    }
   ],
   "source": [
    "# sigmoid activation function and its derivative\n",
    "sigmoid = lambda x: 1/(1 + np.exp(-x))\n",
    "sigmoidprime = lambda x: sigmoid(x) * (1 - sigmoid(x))\n",
    "\n",
    "# plot the functions\n",
    "x = np.linspace(-10, 10, 100)\n",
    "plt.plot(x, sigmoid(x))\n",
    "plt.show()\n",
    "plt.plot(x, sigmoidprime(x))\n",
    "plt.show()"
   ]
  },
  {
   "cell_type": "code",
   "execution_count": 3,
   "id": "cc55a591",
   "metadata": {},
   "outputs": [],
   "source": [
    "# input array\n",
    "logic_data = np.array([[0,0], [0,1], [1,0], [1,1]])\n",
    "\n",
    "def pick_operand(operand):\n",
    "    if operand == \"and\":\n",
    "        # labels for AND\n",
    "        labels = np.array([0, 0, 0, 1])\n",
    "    elif operand == \"or\":\n",
    "        # labels for OR\n",
    "        labels = np.array([0, 1, 1, 1])\n",
    "    elif operand == \"nor\":\n",
    "        # labels for not OR\n",
    "        labels = np.array([1, 0, 0, 0])\n",
    "    elif operand == \"nand\":\n",
    "        # labels for not AND\n",
    "        labels = np.array([1, 1, 1, 0])\n",
    "    elif operand == \"xor\":\n",
    "        # labels for XOR\n",
    "        labels = np.array([0, 1, 1, 0])\n",
    "    else: raise ValueError(\"please specify an opperand as either: and, or, nor, nand, xor\")\n",
    "    return labels"
   ]
  },
  {
   "cell_type": "code",
   "execution_count": 4,
   "id": "3d08260f",
   "metadata": {},
   "outputs": [],
   "source": [
    "# class Perceptron\n",
    "class Perceptron:\n",
    "    \"\"\"Single Perceptron\"\"\"\n",
    "    \n",
    "    def __init__(self, input_units, alpha=1):\n",
    "        \"\"\"Initialize perceptron with random weights and a bias. There should\n",
    "        be one weight for each input unit + one bias, set the learning rate alpha (default 1).\"\"\"\n",
    "        self.input_units = input_units\n",
    "        # set the bias as additional random weight\n",
    "        self.weights = np.random.normal(size= input_units +1)\n",
    "        self.alpha = alpha\n",
    "        #initialize global variables for inputs and drive\n",
    "        self.inputs = 0\n",
    "        self.drive = 0\n",
    "    \n",
    "    \n",
    "    def forward_step(self, inputs):\n",
    "        \"\"\"Calculate and return the activation of the Perceptron. Use sigmoid as activation function.\"\"\"\n",
    "        act_func = sigmoid\n",
    "        # add a 1 to be multiplied with bias (our first weight)\n",
    "        self.inputs = np.insert(inputs,0,1)\n",
    "        \n",
    "        #dot product\n",
    "        dot_pro = self.inputs @ self.weights\n",
    "        self.drive = dot_pro\n",
    "        activation = act_func(dot_pro)\n",
    "      \n",
    "        return activation\n",
    "    \n",
    "    \n",
    "    def update(self, delta):\n",
    "        \"\"\"Update the weights and the bias of the Perceptron with error term delta.\"\"\"\n",
    "        # partial derivative matrix = error signal * activation origin neuron\n",
    "        gradients = delta * self.inputs\n",
    "        # update the weights by substracting the old weights by learning rate times the partial derivatives\n",
    "        self.weights -= self.alpha * gradients"
   ]
  },
  {
   "cell_type": "code",
   "execution_count": 5,
   "id": "dae968b9",
   "metadata": {},
   "outputs": [],
   "source": [
    "# class Multilayer Perceptron\n",
    "class MLP:\n",
    "    \"\"\"Multilayer Perceptron: Network of single Perceptrons\"\"\"\n",
    "    \n",
    "    def __init__(self):\n",
    "        \"\"\"Initialize MLP with one hidden layer (4 neurons) and one output neuron.\"\"\"\n",
    "        self.y_hat = 0\n",
    "\n",
    "        # hidden layer neurons get two inputs each\n",
    "        self.hidden_layer = [Perceptron(2), Perceptron(2), Perceptron(2), Perceptron(2)]\n",
    "        \n",
    "        # output neuron gets four inputs\n",
    "        self.output_layer = Perceptron(4)\n",
    "    \n",
    "    def forward_step(self, data):\n",
    "        \"\"\"Perform the forward propagation step of the inputs.\"\"\"\n",
    "        \n",
    "        hidden_layer_output = []\n",
    "        for perceptron in self.hidden_layer:\n",
    "            output = perceptron.forward_step(data)\n",
    "            hidden_layer_output.append(output) \n",
    "            \n",
    "        hidden_layer_output = np.reshape(hidden_layer_output, newshape = (-1))         \n",
    "        y_hat = self.output_layer.forward_step(hidden_layer_output)\n",
    "        self.y_hat = y_hat\n",
    "        \n",
    "        return y_hat\n",
    "        \n",
    "    def backprop_step(self, target):\n",
    "        \"\"\"Perform the backpropagation step.\"\"\"       \n",
    "        delta_output = -(target - self.y_hat) * sigmoidprime(self.output_layer.drive)\n",
    "             \n",
    "        for i, perceptron in enumerate(self.hidden_layer):\n",
    "            delta_hidden = delta_output * self.output_layer.weights[i+1] * sigmoidprime(perceptron.drive) \n",
    "            perceptron.update(delta_hidden)\n",
    "        \n",
    "        self.output_layer.update(delta_output)\n",
    "                       \n",
    "       \n",
    "        "
   ]
  },
  {
   "cell_type": "code",
   "execution_count": 7,
   "id": "95b688f5",
   "metadata": {
    "scrolled": false
   },
   "outputs": [],
   "source": [
    "#test functionality\n",
    "our_mlp = MLP()\n",
    "our_mlp.forward_step(logic_data[2])\n",
    "our_mlp.backprop_step(pick_operand('or')[2])"
   ]
  },
  {
   "cell_type": "code",
   "execution_count": 8,
   "id": "8ca35054",
   "metadata": {},
   "outputs": [],
   "source": [
    "def accuracy_measure(target, guess):\n",
    "    if target == 1:\n",
    "        return guess > 0.5\n",
    "    else:\n",
    "        return guess <= 0.5          "
   ]
  },
  {
   "cell_type": "code",
   "execution_count": 9,
   "id": "bedd449d",
   "metadata": {},
   "outputs": [],
   "source": [
    "# Training\n",
    "\n",
    "#specify number of training epochs\n",
    "epochs = 1000\n",
    "epoch_loss = []\n",
    "training_loss = []\n",
    "epoch_accuracy = []\n",
    "training_accuracy = []\n",
    "\n",
    "# pick operand you want the MLP to learn (\"and\", \"or\", \"nand\", \"nor\", or \"xor\")\n",
    "label = pick_operand(\"nor\")\n",
    "\n",
    "my_mlp = MLP()\n",
    "for epoch in range(epochs):\n",
    "    for i in range(4):    \n",
    "        sigmoid_output = my_mlp.forward_step(logic_data[i])\n",
    "        loss = (label[i]- sigmoid_output)**2\n",
    "        training_loss.append(loss)\n",
    "        my_mlp.backprop_step(label[i])\n",
    "        training_accuracy.append(int(accuracy_measure(label[i],sigmoid_output)))\n",
    "    \n",
    "    epoch_loss.append(np.mean(training_loss))\n",
    "    epoch_accuracy.append(np.mean(training_accuracy))       "
   ]
  },
  {
   "cell_type": "code",
   "execution_count": 10,
   "id": "d82a82e5",
   "metadata": {},
   "outputs": [
    {
     "data": {
      "image/png": "[encoded data removed]",
      "text/plain": [
       "<Figure size 432x288 with 1 Axes>"
      ]
     },
     "metadata": {
      "needs_background": "light"
     },
     "output_type": "display_data"
    }
   ],
   "source": [
    "#Visualization\n",
    "# plot the functions\n",
    "x = np.arange(1000)\n",
    "plt.plot(x, epoch_loss)\n",
    "plt.plot(x,epoch_accuracy)\n",
    "plt.show()"
   ]
  }
 ],
 "metadata": {
  "kernelspec": {
   "display_name": "Python 3 (ipykernel)",
   "language": "python",
   "name": "python3"
  },
  "language_info": {
   "codemirror_mode": {
    "name": "ipython",
    "version": 3
   },
   "file_extension": ".py",
   "mimetype": "text/x-python",
   "name": "python",
   "nbconvert_exporter": "python",
   "pygments_lexer": "ipython3",
   "version": "3.9.7"
  }
 },
 "nbformat": 4,
 "nbformat_minor": 5
}
